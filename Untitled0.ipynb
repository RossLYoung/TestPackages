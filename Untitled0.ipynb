{
 "worksheets": [
  {
   "cells": [
    {
     "cell_type": "code",
     "metadata": {},
     "outputs": [],
     "input": [
      "import pandas as pd\n",
      "import numpy as np"
     ],
     "language": "python",
     "prompt_number": 1
    },
    {
     "cell_type": "code",
     "metadata": {},
     "outputs": [],
     "input": [
      "u_cols = ['user_id', 'age', 'sex', 'occupation', 'zip_code']\n",
      "users = pd.read_csv('viz/static/movie/u.user', sep='|', names=u_cols)"
     ],
     "language": "python",
     "prompt_number": 2
    },
    {
     "cell_type": "code",
     "metadata": {},
     "outputs": [],
     "input": [
      "r_cols = ['user_id', 'movie_id', 'rating', 'unix_timestamp']\n",
      "ratings = pd.read_csv('viz/static/movie/u.data', sep='\\t', names=r_cols)"
     ],
     "language": "python",
     "prompt_number": 5
    },
    {
     "cell_type": "code",
     "metadata": {},
     "outputs": [],
     "input": [
      "m_cols = ['movie_id', 'title', 'release_date', 'video_release_date', 'imdb_url']\n",
      "movies = pd.read_csv('viz/static/movie/u.item', sep='|', names=m_cols, usecols=range(5))"
     ],
     "language": "python",
     "prompt_number": 6
    },
    {
     "cell_type": "code",
     "metadata": {},
     "outputs": [],
     "input": [
      "movie_ratings = pd.merge(movies, ratings)"
     ],
     "language": "python",
     "prompt_number": 20
    },
    {
     "cell_type": "code",
     "metadata": {},
     "outputs": [
      {
       "output_type": "pyout",
       "html": [
        "<div style=\"max-height:1000px;max-width:1500px;overflow:auto;\">\n",
        "<table border=\"1\" class=\"dataframe\">\n",
        "  <thead>\n",
        "    <tr style=\"text-align: right;\">\n",
        "      <th></th>\n",
        "      <th>movie_id</th>\n",
        "      <th>title</th>\n",
        "      <th>release_date</th>\n",
        "      <th>video_release_date</th>\n",
        "      <th>imdb_url</th>\n",
        "      <th>user_id</th>\n",
        "      <th>rating</th>\n",
        "      <th>unix_timestamp</th>\n",
        "    </tr>\n",
        "  </thead>\n",
        "  <tbody>\n",
        "    <tr>\n",
        "      <th>0   </th>\n",
        "      <td> 1</td>\n",
        "      <td>      Toy Story (1995)</td>\n",
        "      <td> 01-Jan-1995</td>\n",
        "      <td>NaN</td>\n",
        "      <td> http://us.imdb.com/M/title-exact?Toy%20Story%2...</td>\n",
        "      <td> 308</td>\n",
        "      <td> 4</td>\n",
        "      <td> 887736532</td>\n",
        "    </tr>\n",
        "    <tr>\n",
        "      <th>681 </th>\n",
        "      <td> 4</td>\n",
        "      <td>     Get Shorty (1995)</td>\n",
        "      <td> 01-Jan-1995</td>\n",
        "      <td>NaN</td>\n",
        "      <td> http://us.imdb.com/M/title-exact?Get%20Shorty%...</td>\n",
        "      <td> 308</td>\n",
        "      <td> 5</td>\n",
        "      <td> 887737890</td>\n",
        "    </tr>\n",
        "    <tr>\n",
        "      <th>889 </th>\n",
        "      <td> 5</td>\n",
        "      <td>        Copycat (1995)</td>\n",
        "      <td> 01-Jan-1995</td>\n",
        "      <td>NaN</td>\n",
        "      <td> http://us.imdb.com/M/title-exact?Copycat%20(1995)</td>\n",
        "      <td> 308</td>\n",
        "      <td> 4</td>\n",
        "      <td> 887739608</td>\n",
        "    </tr>\n",
        "    <tr>\n",
        "      <th>1309</th>\n",
        "      <td> 7</td>\n",
        "      <td> Twelve Monkeys (1995)</td>\n",
        "      <td> 01-Jan-1995</td>\n",
        "      <td>NaN</td>\n",
        "      <td> http://us.imdb.com/M/title-exact?Twelve%20Monk...</td>\n",
        "      <td> 308</td>\n",
        "      <td> 4</td>\n",
        "      <td> 887738847</td>\n",
        "    </tr>\n",
        "    <tr>\n",
        "      <th>1471</th>\n",
        "      <td> 8</td>\n",
        "      <td>           Babe (1995)</td>\n",
        "      <td> 01-Jan-1995</td>\n",
        "      <td>NaN</td>\n",
        "      <td>    http://us.imdb.com/M/title-exact?Babe%20(1995)</td>\n",
        "      <td> 308</td>\n",
        "      <td> 5</td>\n",
        "      <td> 887736696</td>\n",
        "    </tr>\n",
        "  </tbody>\n",
        "</table>\n",
        "</div>"
       ],
       "text": [
        "      movie_id                  title release_date  video_release_date  \\\n",
        "0            1       Toy Story (1995)  01-Jan-1995                 NaN   \n",
        "681          4      Get Shorty (1995)  01-Jan-1995                 NaN   \n",
        "889          5         Copycat (1995)  01-Jan-1995                 NaN   \n",
        "1309         7  Twelve Monkeys (1995)  01-Jan-1995                 NaN   \n",
        "1471         8            Babe (1995)  01-Jan-1995                 NaN   \n",
        "\n",
        "                                               imdb_url  user_id  rating  \\\n",
        "0     http://us.imdb.com/M/title-exact?Toy%20Story%2...      308       4   \n",
        "681   http://us.imdb.com/M/title-exact?Get%20Shorty%...      308       5   \n",
        "889   http://us.imdb.com/M/title-exact?Copycat%20(1995)      308       4   \n",
        "1309  http://us.imdb.com/M/title-exact?Twelve%20Monk...      308       4   \n",
        "1471     http://us.imdb.com/M/title-exact?Babe%20(1995)      308       5   \n",
        "\n",
        "      unix_timestamp  \n",
        "0          887736532  \n",
        "681        887737890  \n",
        "889        887739608  \n",
        "1309       887738847  \n",
        "1471       887736696  "
       ],
       "metadata": {}
      }
     ],
     "input": [
      "movie_ratings[movie_ratings.user_id == 308][:5]"
     ],
     "language": "python",
     "prompt_number": 35
    },
    {
     "cell_type": "code",
     "metadata": {},
     "outputs": [
      {
       "output_type": "stream",
       "stream": "stdout",
       "text": [
        "<class 'pandas.core.frame.DataFrame'>\n",
        "Int64Index: 100000 entries, 0 to 99999\n",
        "Data columns (total 12 columns):\n",
        "movie_id              100000 non-null int64\n",
        "title                 100000 non-null object\n",
        "release_date          99991 non-null object\n",
        "video_release_date    0 non-null float64\n",
        "imdb_url              99987 non-null object\n",
        "user_id               100000 non-null int64\n",
        "rating                100000 non-null int64\n",
        "unix_timestamp        100000 non-null int64\n",
        "age                   100000 non-null int64\n",
        "sex                   100000 non-null object\n",
        "occupation            100000 non-null object\n",
        "zip_code              100000 non-null object\n",
        "dtypes: float64(1), int64(5), object(6)\n",
        "memory usage: 9.9+ MB\n"
       ]
      }
     ],
     "input": [
      "lens = pd.merge(movie_ratings, users)\n",
      "lens.info()"
     ],
     "language": "python",
     "prompt_number": 38
    },
    {
     "cell_type": "code",
     "metadata": {},
     "outputs": [
      {
       "output_type": "pyout",
       "html": [
        "<div style=\"max-height:1000px;max-width:1500px;overflow:auto;\">\n",
        "<table border=\"1\" class=\"dataframe\">\n",
        "  <thead>\n",
        "    <tr style=\"text-align: right;\">\n",
        "      <th></th>\n",
        "      <th>movie_id</th>\n",
        "      <th>title</th>\n",
        "      <th>release_date</th>\n",
        "      <th>video_release_date</th>\n",
        "      <th>imdb_url</th>\n",
        "      <th>user_id</th>\n",
        "      <th>rating</th>\n",
        "      <th>unix_timestamp</th>\n",
        "      <th>age</th>\n",
        "      <th>sex</th>\n",
        "      <th>occupation</th>\n",
        "      <th>zip_code</th>\n",
        "    </tr>\n",
        "  </thead>\n",
        "  <tbody>\n",
        "    <tr>\n",
        "      <th>0</th>\n",
        "      <td> 1</td>\n",
        "      <td>      Toy Story (1995)</td>\n",
        "      <td> 01-Jan-1995</td>\n",
        "      <td>NaN</td>\n",
        "      <td> http://us.imdb.com/M/title-exact?Toy%20Story%2...</td>\n",
        "      <td> 308</td>\n",
        "      <td> 4</td>\n",
        "      <td> 887736532</td>\n",
        "      <td> 60</td>\n",
        "      <td> M</td>\n",
        "      <td> retired</td>\n",
        "      <td> 95076</td>\n",
        "    </tr>\n",
        "    <tr>\n",
        "      <th>1</th>\n",
        "      <td> 4</td>\n",
        "      <td>     Get Shorty (1995)</td>\n",
        "      <td> 01-Jan-1995</td>\n",
        "      <td>NaN</td>\n",
        "      <td> http://us.imdb.com/M/title-exact?Get%20Shorty%...</td>\n",
        "      <td> 308</td>\n",
        "      <td> 5</td>\n",
        "      <td> 887737890</td>\n",
        "      <td> 60</td>\n",
        "      <td> M</td>\n",
        "      <td> retired</td>\n",
        "      <td> 95076</td>\n",
        "    </tr>\n",
        "    <tr>\n",
        "      <th>2</th>\n",
        "      <td> 5</td>\n",
        "      <td>        Copycat (1995)</td>\n",
        "      <td> 01-Jan-1995</td>\n",
        "      <td>NaN</td>\n",
        "      <td> http://us.imdb.com/M/title-exact?Copycat%20(1995)</td>\n",
        "      <td> 308</td>\n",
        "      <td> 4</td>\n",
        "      <td> 887739608</td>\n",
        "      <td> 60</td>\n",
        "      <td> M</td>\n",
        "      <td> retired</td>\n",
        "      <td> 95076</td>\n",
        "    </tr>\n",
        "    <tr>\n",
        "      <th>3</th>\n",
        "      <td> 7</td>\n",
        "      <td> Twelve Monkeys (1995)</td>\n",
        "      <td> 01-Jan-1995</td>\n",
        "      <td>NaN</td>\n",
        "      <td> http://us.imdb.com/M/title-exact?Twelve%20Monk...</td>\n",
        "      <td> 308</td>\n",
        "      <td> 4</td>\n",
        "      <td> 887738847</td>\n",
        "      <td> 60</td>\n",
        "      <td> M</td>\n",
        "      <td> retired</td>\n",
        "      <td> 95076</td>\n",
        "    </tr>\n",
        "    <tr>\n",
        "      <th>4</th>\n",
        "      <td> 8</td>\n",
        "      <td>           Babe (1995)</td>\n",
        "      <td> 01-Jan-1995</td>\n",
        "      <td>NaN</td>\n",
        "      <td>    http://us.imdb.com/M/title-exact?Babe%20(1995)</td>\n",
        "      <td> 308</td>\n",
        "      <td> 5</td>\n",
        "      <td> 887736696</td>\n",
        "      <td> 60</td>\n",
        "      <td> M</td>\n",
        "      <td> retired</td>\n",
        "      <td> 95076</td>\n",
        "    </tr>\n",
        "  </tbody>\n",
        "</table>\n",
        "</div>"
       ],
       "text": [
        "   movie_id                  title release_date  video_release_date  \\\n",
        "0         1       Toy Story (1995)  01-Jan-1995                 NaN   \n",
        "1         4      Get Shorty (1995)  01-Jan-1995                 NaN   \n",
        "2         5         Copycat (1995)  01-Jan-1995                 NaN   \n",
        "3         7  Twelve Monkeys (1995)  01-Jan-1995                 NaN   \n",
        "4         8            Babe (1995)  01-Jan-1995                 NaN   \n",
        "\n",
        "                                            imdb_url  user_id  rating  \\\n",
        "0  http://us.imdb.com/M/title-exact?Toy%20Story%2...      308       4   \n",
        "1  http://us.imdb.com/M/title-exact?Get%20Shorty%...      308       5   \n",
        "2  http://us.imdb.com/M/title-exact?Copycat%20(1995)      308       4   \n",
        "3  http://us.imdb.com/M/title-exact?Twelve%20Monk...      308       4   \n",
        "4     http://us.imdb.com/M/title-exact?Babe%20(1995)      308       5   \n",
        "\n",
        "   unix_timestamp  age sex occupation zip_code  \n",
        "0       887736532   60   M    retired    95076  \n",
        "1       887737890   60   M    retired    95076  \n",
        "2       887739608   60   M    retired    95076  \n",
        "3       887738847   60   M    retired    95076  \n",
        "4       887736696   60   M    retired    95076  "
       ],
       "metadata": {}
      }
     ],
     "input": [
      "lens[lens.user_id == 308][:5]"
     ],
     "language": "python",
     "prompt_number": 40
    },
    {
     "cell_type": "code",
     "metadata": {},
     "outputs": [
      {
       "output_type": "stream",
       "stream": "stdout",
       "text": [
        "title\n",
        "Star Wars (1977)             583\n",
        "Contact (1997)               509\n",
        "Fargo (1996)                 508\n",
        "Return of the Jedi (1983)    507\n",
        "Liar Liar (1997)             485\n",
        "dtype: int64\n"
       ]
      }
     ],
     "input": [
      "most_rated = lens.groupby('title').size().order(ascending=False)[:5]\n",
      "print most_rated"
     ],
     "language": "python",
     "prompt_number": 50
    },
    {
     "cell_type": "code",
     "metadata": {},
     "outputs": [
      {
       "output_type": "pyout",
       "prompt_number": 51,
       "text": [
        "Star Wars (1977)             583\n",
        "Contact (1997)               509\n",
        "Fargo (1996)                 508\n",
        "Return of the Jedi (1983)    507\n",
        "Liar Liar (1997)             485\n",
        "dtype: int64"
       ],
       "metadata": {}
      }
     ],
     "input": [
      "lens.title.value_counts()[:5]"
     ],
     "language": "python",
     "prompt_number": 51
    },
    {
     "cell_type": "code",
     "metadata": {},
     "outputs": [
      {
       "output_type": "stream",
       "stream": "stdout",
       "text": [
        "                          rating          \n",
        "                            size      mean\n",
        "title                                     \n",
        "'Til There Was You (1997)      9  2.333333\n",
        "1-900 (1994)                   5  2.600000\n",
        "101 Dalmatians (1996)        109  2.908257\n",
        "12 Angry Men (1957)          125  4.344000\n",
        "187 (1997)                    41  3.024390\n"
       ]
      }
     ],
     "input": [
      "#Which movies are most highly rated?\n",
      "movie_stats = lens.groupby('title').agg({'rating': [np.size, np.mean]})\n",
      "print movie_stats.head()"
     ],
     "language": "python",
     "prompt_number": 53
    },
    {
     "cell_type": "code",
     "metadata": {},
     "outputs": [],
     "input": [
      "import matplotlib.pyplot as plt"
     ],
     "language": "python",
     "prompt_number": 54
    }
   ]
  }
 ],
 "cells": [],
 "metadata": {
  "name": "",
  "signature": "sha256:744cf12b0edf3ca23c89fba15172aad450ab0c9df55224a786ed317ea73452e9"
 },
 "nbformat": 3,
 "nbformat_minor": 0
}